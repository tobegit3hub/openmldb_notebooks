{
 "cells": [
  {
   "cell_type": "markdown",
   "id": "3481740c",
   "metadata": {},
   "source": [
    "# OpenMLDB Demo\n",
    "\n",
    "Run and share your OpenMLDB applications. More docs in https://docs.openmldb.ai/."
   ]
  },
  {
   "cell_type": "markdown",
   "id": "338a697c",
   "metadata": {},
   "source": [
    "## Connect OpenMLDB"
   ]
  },
  {
   "cell_type": "code",
   "execution_count": null,
   "id": "af2b0a02",
   "metadata": {},
   "outputs": [],
   "source": [
    "import openmldb\n",
    "\n",
    "db = openmldb.dbapi.connect('demo_db','0.0.0.0:2181','/openmldb')\n",
    "\n",
    "openmldb.sql_magic.register(db)"
   ]
  },
  {
   "cell_type": "markdown",
   "id": "9751684e",
   "metadata": {},
   "source": [
    "## Create Database\n",
    "\n",
    "Create the test database and use as default database."
   ]
  },
  {
   "cell_type": "code",
   "execution_count": null,
   "id": "09ff1117",
   "metadata": {},
   "outputs": [],
   "source": [
    "%%sql \n",
    "\n",
    "CREATE DATABsASE demo_db"
   ]
  },
  {
   "cell_type": "markdown",
   "id": "b1856d17",
   "metadata": {},
   "source": [
    "## Create Table"
   ]
  },
  {
   "cell_type": "code",
   "execution_count": null,
   "id": "c601ff90",
   "metadata": {},
   "outputs": [],
   "source": [
    "%%sql\n",
    "\n",
    "CREATE TABLE demo_table (c1 string, c2 int, c3 bigint, c4 float, c5 double, c6 timestamp, c7 date)"
   ]
  },
  {
   "cell_type": "markdown",
   "id": "474bfb0a",
   "metadata": {},
   "source": [
    "## Insert Data"
   ]
  },
  {
   "cell_type": "code",
   "execution_count": null,
   "id": "4767cc33",
   "metadata": {},
   "outputs": [],
   "source": [
    "%%sql\n",
    "\n",
    "INSERT INTO demo_table VALUES(\"aaa\", 12, 22, 2.200000, 12.300000, 1636097390000, \"2021-08-19\")"
   ]
  },
  {
   "cell_type": "markdown",
   "id": "0e008ea0",
   "metadata": {},
   "source": [
    "## Query Data"
   ]
  },
  {
   "cell_type": "code",
   "execution_count": null,
   "id": "ab3b75af",
   "metadata": {},
   "outputs": [],
   "source": [
    "%%sql\n",
    "\n",
    "SELECT * FROM demo_table"
   ]
  },
  {
   "cell_type": "code",
   "execution_count": null,
   "id": "33386839",
   "metadata": {},
   "outputs": [],
   "source": []
  }
 ],
 "metadata": {
  "kernelspec": {
   "display_name": "Python 3 (ipykernel)",
   "language": "python",
   "name": "python3"
  },
  "language_info": {
   "codemirror_mode": {
    "name": "ipython",
    "version": 3
   },
   "file_extension": ".py",
   "mimetype": "text/x-python",
   "name": "python",
   "nbconvert_exporter": "python",
   "pygments_lexer": "ipython3",
   "version": "3.9.6"
  }
 },
 "nbformat": 4,
 "nbformat_minor": 5
}
